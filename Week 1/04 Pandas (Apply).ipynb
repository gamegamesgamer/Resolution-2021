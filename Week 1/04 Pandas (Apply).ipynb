{
 "metadata": {
  "language_info": {
   "codemirror_mode": {
    "name": "ipython",
    "version": 3
   },
   "file_extension": ".py",
   "mimetype": "text/x-python",
   "name": "python",
   "nbconvert_exporter": "python",
   "pygments_lexer": "ipython3",
   "version": "3.8.3-final"
  },
  "orig_nbformat": 2,
  "kernelspec": {
   "name": "python3",
   "display_name": "Python 3",
   "language": "python"
  }
 },
 "nbformat": 4,
 "nbformat_minor": 2,
 "cells": [
  {
   "source": [
    "## Apply Function"
   ],
   "cell_type": "markdown",
   "metadata": {}
  },
  {
   "cell_type": "code",
   "execution_count": 1,
   "metadata": {},
   "outputs": [],
   "source": [
    "# Import pandas library\n",
    "import pandas as pd"
   ]
  },
  {
   "cell_type": "code",
   "execution_count": 2,
   "metadata": {},
   "outputs": [],
   "source": [
    "df = pd.read_csv('Pandas Part 1/bigmart_data.csv')"
   ]
  },
  {
   "cell_type": "code",
   "execution_count": 3,
   "metadata": {},
   "outputs": [
    {
     "output_type": "execute_result",
     "data": {
      "text/plain": [
       "  Item_Identifier  Item_Weight Item_Fat_Content  Item_Visibility  \\\n",
       "0           FDA15         9.30          Low Fat         0.016047   \n",
       "1           DRC01         5.92          Regular         0.019278   \n",
       "2           FDN15        17.50          Low Fat         0.016760   \n",
       "3           FDX07        19.20          Regular         0.000000   \n",
       "4           NCD19         8.93          Low Fat         0.000000   \n",
       "\n",
       "               Item_Type  Item_MRP Outlet_Identifier  \\\n",
       "0                  Dairy  249.8092            OUT049   \n",
       "1            Soft Drinks   48.2692            OUT018   \n",
       "2                   Meat  141.6180            OUT049   \n",
       "3  Fruits and Vegetables  182.0950            OUT010   \n",
       "4              Household   53.8614            OUT013   \n",
       "\n",
       "   Outlet_Establishment_Year Outlet_Size Outlet_Location_Type  \\\n",
       "0                       1999      Medium               Tier 1   \n",
       "1                       2009      Medium               Tier 3   \n",
       "2                       1999      Medium               Tier 1   \n",
       "3                       1998         NaN               Tier 3   \n",
       "4                       1987        High               Tier 3   \n",
       "\n",
       "         Outlet_Type  Item_Outlet_Sales  \n",
       "0  Supermarket Type1          3735.1380  \n",
       "1  Supermarket Type2           443.4228  \n",
       "2  Supermarket Type1          2097.2700  \n",
       "3      Grocery Store           732.3800  \n",
       "4  Supermarket Type1           994.7052  "
      ],
      "text/html": "<div>\n<style scoped>\n    .dataframe tbody tr th:only-of-type {\n        vertical-align: middle;\n    }\n\n    .dataframe tbody tr th {\n        vertical-align: top;\n    }\n\n    .dataframe thead th {\n        text-align: right;\n    }\n</style>\n<table border=\"1\" class=\"dataframe\">\n  <thead>\n    <tr style=\"text-align: right;\">\n      <th></th>\n      <th>Item_Identifier</th>\n      <th>Item_Weight</th>\n      <th>Item_Fat_Content</th>\n      <th>Item_Visibility</th>\n      <th>Item_Type</th>\n      <th>Item_MRP</th>\n      <th>Outlet_Identifier</th>\n      <th>Outlet_Establishment_Year</th>\n      <th>Outlet_Size</th>\n      <th>Outlet_Location_Type</th>\n      <th>Outlet_Type</th>\n      <th>Item_Outlet_Sales</th>\n    </tr>\n  </thead>\n  <tbody>\n    <tr>\n      <th>0</th>\n      <td>FDA15</td>\n      <td>9.30</td>\n      <td>Low Fat</td>\n      <td>0.016047</td>\n      <td>Dairy</td>\n      <td>249.8092</td>\n      <td>OUT049</td>\n      <td>1999</td>\n      <td>Medium</td>\n      <td>Tier 1</td>\n      <td>Supermarket Type1</td>\n      <td>3735.1380</td>\n    </tr>\n    <tr>\n      <th>1</th>\n      <td>DRC01</td>\n      <td>5.92</td>\n      <td>Regular</td>\n      <td>0.019278</td>\n      <td>Soft Drinks</td>\n      <td>48.2692</td>\n      <td>OUT018</td>\n      <td>2009</td>\n      <td>Medium</td>\n      <td>Tier 3</td>\n      <td>Supermarket Type2</td>\n      <td>443.4228</td>\n    </tr>\n    <tr>\n      <th>2</th>\n      <td>FDN15</td>\n      <td>17.50</td>\n      <td>Low Fat</td>\n      <td>0.016760</td>\n      <td>Meat</td>\n      <td>141.6180</td>\n      <td>OUT049</td>\n      <td>1999</td>\n      <td>Medium</td>\n      <td>Tier 1</td>\n      <td>Supermarket Type1</td>\n      <td>2097.2700</td>\n    </tr>\n    <tr>\n      <th>3</th>\n      <td>FDX07</td>\n      <td>19.20</td>\n      <td>Regular</td>\n      <td>0.000000</td>\n      <td>Fruits and Vegetables</td>\n      <td>182.0950</td>\n      <td>OUT010</td>\n      <td>1998</td>\n      <td>NaN</td>\n      <td>Tier 3</td>\n      <td>Grocery Store</td>\n      <td>732.3800</td>\n    </tr>\n    <tr>\n      <th>4</th>\n      <td>NCD19</td>\n      <td>8.93</td>\n      <td>Low Fat</td>\n      <td>0.000000</td>\n      <td>Household</td>\n      <td>53.8614</td>\n      <td>OUT013</td>\n      <td>1987</td>\n      <td>High</td>\n      <td>Tier 3</td>\n      <td>Supermarket Type1</td>\n      <td>994.7052</td>\n    </tr>\n  </tbody>\n</table>\n</div>"
     },
     "metadata": {},
     "execution_count": 3
    }
   ],
   "source": [
    "df.head()"
   ]
  },
  {
   "cell_type": "code",
   "execution_count": 4,
   "metadata": {},
   "outputs": [
    {
     "output_type": "execute_result",
     "data": {
      "text/plain": [
       "Item_Identifier                          FDA15\n",
       "Item_Weight                                9.3\n",
       "Item_Fat_Content                       Low Fat\n",
       "Item_Visibility                      0.0160473\n",
       "Item_Type                                Dairy\n",
       "Item_MRP                               249.809\n",
       "Outlet_Identifier                       OUT049\n",
       "Outlet_Establishment_Year                 1999\n",
       "Outlet_Size                             Medium\n",
       "Outlet_Location_Type                    Tier 1\n",
       "Outlet_Type                  Supermarket Type1\n",
       "Item_Outlet_Sales                      3735.14\n",
       "dtype: object"
      ]
     },
     "metadata": {},
     "execution_count": 4
    }
   ],
   "source": [
    "# Access first row\n",
    "df.apply(lambda x: x[0])"
   ]
  },
  {
   "cell_type": "code",
   "execution_count": 5,
   "metadata": {},
   "outputs": [
    {
     "output_type": "execute_result",
     "data": {
      "text/plain": [
       "Item_Identifier                          FDN15\n",
       "Item_Weight                               17.5\n",
       "Item_Fat_Content                       Low Fat\n",
       "Item_Visibility                      0.0167601\n",
       "Item_Type                                 Meat\n",
       "Item_MRP                               141.618\n",
       "Outlet_Identifier                       OUT049\n",
       "Outlet_Establishment_Year                 1999\n",
       "Outlet_Size                             Medium\n",
       "Outlet_Location_Type                    Tier 1\n",
       "Outlet_Type                  Supermarket Type1\n",
       "Item_Outlet_Sales                      2097.27\n",
       "dtype: object"
      ]
     },
     "metadata": {},
     "execution_count": 5
    }
   ],
   "source": [
    "# Access third row\n",
    "df.apply(lambda x: x[2])"
   ]
  },
  {
   "cell_type": "code",
   "execution_count": 6,
   "metadata": {},
   "outputs": [
    {
     "output_type": "execute_result",
     "data": {
      "text/plain": [
       "0       1999\n",
       "1       2009\n",
       "2       1999\n",
       "3       1998\n",
       "4       1987\n",
       "        ... \n",
       "8518    1987\n",
       "8519    2002\n",
       "8520    2004\n",
       "8521    2009\n",
       "8522    1997\n",
       "Length: 8523, dtype: int64"
      ]
     },
     "metadata": {},
     "execution_count": 6
    }
   ],
   "source": [
    "# Access eighth column\n",
    "df.apply(lambda x: x[7], axis=1)"
   ]
  },
  {
   "cell_type": "code",
   "execution_count": 7,
   "metadata": {},
   "outputs": [
    {
     "output_type": "execute_result",
     "data": {
      "text/plain": [
       "0        9.300\n",
       "1        5.920\n",
       "2       17.500\n",
       "3       19.200\n",
       "4        8.930\n",
       "         ...  \n",
       "8518     6.865\n",
       "8519     8.380\n",
       "8520    10.600\n",
       "8521     7.210\n",
       "8522    14.800\n",
       "Length: 8523, dtype: float64"
      ]
     },
     "metadata": {},
     "execution_count": 7
    }
   ],
   "source": [
    "# Access 'Item_Weight' column\n",
    "df.apply(lambda x: x['Item_Weight'], axis=1)"
   ]
  },
  {
   "cell_type": "code",
   "execution_count": 8,
   "metadata": {},
   "outputs": [
    {
     "output_type": "execute_result",
     "data": {
      "text/plain": [
       "0       FDA15\n",
       "1       DRC01\n",
       "2       FDN15\n",
       "3       FDX07\n",
       "4       NCD19\n",
       "        ...  \n",
       "8518    FDF22\n",
       "8519    FDS36\n",
       "8520    NCJ29\n",
       "8521    FDN46\n",
       "8522    DRG01\n",
       "Length: 8523, dtype: object"
      ]
     },
     "metadata": {},
     "execution_count": 8
    }
   ],
   "source": [
    "# Access first column\n",
    "df.apply(lambda x: x[0], axis=1)"
   ]
  },
  {
   "cell_type": "code",
   "execution_count": 9,
   "metadata": {},
   "outputs": [],
   "source": [
    "def reset(price):\n",
    "    if price<200:\n",
    "        price= 100\n",
    "    return price"
   ]
  },
  {
   "cell_type": "code",
   "execution_count": 10,
   "metadata": {},
   "outputs": [
    {
     "output_type": "execute_result",
     "data": {
      "text/plain": [
       "0    249.8092\n",
       "1    100.0000\n",
       "2    100.0000\n",
       "3    100.0000\n",
       "4    100.0000\n",
       "Name: Item_MRP, dtype: float64"
      ]
     },
     "metadata": {},
     "execution_count": 10
    }
   ],
   "source": [
    "df['Item_MRP'].apply(lambda x: reset(x)).head()"
   ]
  },
  {
   "cell_type": "code",
   "execution_count": 11,
   "metadata": {},
   "outputs": [],
   "source": [
    "def tier(city):\n",
    "    if city == 'Tier 1':\n",
    "        value = 0\n",
    "    elif city == 'Tier 2':\n",
    "        value = 1\n",
    "    else:\n",
    "        value = 2\n",
    "\n",
    "    return value"
   ]
  },
  {
   "cell_type": "code",
   "execution_count": 12,
   "metadata": {},
   "outputs": [
    {
     "output_type": "execute_result",
     "data": {
      "text/plain": [
       "0    0\n",
       "1    2\n",
       "2    0\n",
       "3    2\n",
       "4    2\n",
       "Name: Outlet_Location_Type, dtype: int64"
      ]
     },
     "metadata": {},
     "execution_count": 12
    }
   ],
   "source": [
    "df['Outlet_Location_Type'].apply(lambda x: tier(x)).head()"
   ]
  },
  {
   "cell_type": "code",
   "execution_count": 13,
   "metadata": {},
   "outputs": [],
   "source": [
    "def category(weight):\n",
    "    if weight > 20:\n",
    "        weight = 'Heavy'\n",
    "    elif weight <20 and weight>10:\n",
    "        weight = 'Medium'\n",
    "    else:\n",
    "        weight = 'Light'\n",
    "\n",
    "    return weight"
   ]
  },
  {
   "cell_type": "code",
   "execution_count": 14,
   "metadata": {},
   "outputs": [
    {
     "output_type": "execute_result",
     "data": {
      "text/plain": [
       "0     Light\n",
       "1     Light\n",
       "2    Medium\n",
       "3    Medium\n",
       "4     Light\n",
       "Name: Item_Weight, dtype: object"
      ]
     },
     "metadata": {},
     "execution_count": 14
    }
   ],
   "source": [
    "df['Item_Weight'].apply(lambda x: category(x)).head()"
   ]
  },
  {
   "cell_type": "code",
   "execution_count": 15,
   "metadata": {},
   "outputs": [],
   "source": [
    "def sales(price):\n",
    "    if price>2000:\n",
    "        price = 'High Sales'\n",
    "    else:\n",
    "        price = 'Less Sales'\n",
    "    return price"
   ]
  },
  {
   "cell_type": "code",
   "execution_count": 16,
   "metadata": {},
   "outputs": [
    {
     "output_type": "execute_result",
     "data": {
      "text/plain": [
       "0       High Sales\n",
       "1       Less Sales\n",
       "2       High Sales\n",
       "3       Less Sales\n",
       "4       Less Sales\n",
       "           ...    \n",
       "8518    High Sales\n",
       "8519    Less Sales\n",
       "8520    Less Sales\n",
       "8521    Less Sales\n",
       "8522    Less Sales\n",
       "Name: Item_Outlet_Sales, Length: 8523, dtype: object"
      ]
     },
     "metadata": {},
     "execution_count": 16
    }
   ],
   "source": [
    "df['Item_Outlet_Sales'].apply(lambda x: sales(x))"
   ]
  },
  {
   "cell_type": "code",
   "execution_count": 17,
   "metadata": {},
   "outputs": [
    {
     "output_type": "execute_result",
     "data": {
      "text/plain": [
       "0    Medium\n",
       "1    Medium\n",
       "2    Medium\n",
       "3       NaN\n",
       "4      High\n",
       "Name: Outlet_Size, dtype: object"
      ]
     },
     "metadata": {},
     "execution_count": 17
    }
   ],
   "source": [
    "df['Outlet_Size'].head()"
   ]
  },
  {
   "cell_type": "code",
   "execution_count": 18,
   "metadata": {},
   "outputs": [],
   "source": [
    "def size(outlet):\n",
    "    if outlet == 'High':\n",
    "       value = 2\n",
    "\n",
    "    elif outlet == 'Medium':\n",
    "        value = 1\n",
    "\n",
    "    else:\n",
    "        value = 0\n",
    "\n",
    "    return value\n"
   ]
  },
  {
   "cell_type": "code",
   "execution_count": 19,
   "metadata": {},
   "outputs": [
    {
     "output_type": "execute_result",
     "data": {
      "text/plain": [
       "0    1\n",
       "1    1\n",
       "2    1\n",
       "3    0\n",
       "4    2\n",
       "Name: Outlet_Size, dtype: int64"
      ]
     },
     "metadata": {},
     "execution_count": 19
    }
   ],
   "source": [
    "df['Outlet_Size'].apply(lambda x: size(x)).head()"
   ]
  },
  {
   "cell_type": "code",
   "execution_count": 20,
   "metadata": {},
   "outputs": [],
   "source": [
    "# Aggregation"
   ]
  },
  {
   "cell_type": "code",
   "execution_count": 21,
   "metadata": {},
   "outputs": [],
   "source": [
    "# import libraries\n",
    "import pandas as pd\n",
    "import numpy as np"
   ]
  },
  {
   "cell_type": "code",
   "execution_count": 22,
   "metadata": {},
   "outputs": [],
   "source": [
    "# read dataset\n",
    "df = pd.read_csv('Pandas Part 1/bigmart_data.csv')"
   ]
  },
  {
   "cell_type": "code",
   "execution_count": 23,
   "metadata": {},
   "outputs": [
    {
     "output_type": "execute_result",
     "data": {
      "text/plain": [
       "  Item_Identifier  Item_Weight Item_Fat_Content  Item_Visibility  \\\n",
       "0           FDA15         9.30          Low Fat         0.016047   \n",
       "1           DRC01         5.92          Regular         0.019278   \n",
       "2           FDN15        17.50          Low Fat         0.016760   \n",
       "3           FDX07        19.20          Regular         0.000000   \n",
       "4           NCD19         8.93          Low Fat         0.000000   \n",
       "\n",
       "               Item_Type  Item_MRP Outlet_Identifier  \\\n",
       "0                  Dairy  249.8092            OUT049   \n",
       "1            Soft Drinks   48.2692            OUT018   \n",
       "2                   Meat  141.6180            OUT049   \n",
       "3  Fruits and Vegetables  182.0950            OUT010   \n",
       "4              Household   53.8614            OUT013   \n",
       "\n",
       "   Outlet_Establishment_Year Outlet_Size Outlet_Location_Type  \\\n",
       "0                       1999      Medium               Tier 1   \n",
       "1                       2009      Medium               Tier 3   \n",
       "2                       1999      Medium               Tier 1   \n",
       "3                       1998         NaN               Tier 3   \n",
       "4                       1987        High               Tier 3   \n",
       "\n",
       "         Outlet_Type  Item_Outlet_Sales  \n",
       "0  Supermarket Type1          3735.1380  \n",
       "1  Supermarket Type2           443.4228  \n",
       "2  Supermarket Type1          2097.2700  \n",
       "3      Grocery Store           732.3800  \n",
       "4  Supermarket Type1           994.7052  "
      ],
      "text/html": "<div>\n<style scoped>\n    .dataframe tbody tr th:only-of-type {\n        vertical-align: middle;\n    }\n\n    .dataframe tbody tr th {\n        vertical-align: top;\n    }\n\n    .dataframe thead th {\n        text-align: right;\n    }\n</style>\n<table border=\"1\" class=\"dataframe\">\n  <thead>\n    <tr style=\"text-align: right;\">\n      <th></th>\n      <th>Item_Identifier</th>\n      <th>Item_Weight</th>\n      <th>Item_Fat_Content</th>\n      <th>Item_Visibility</th>\n      <th>Item_Type</th>\n      <th>Item_MRP</th>\n      <th>Outlet_Identifier</th>\n      <th>Outlet_Establishment_Year</th>\n      <th>Outlet_Size</th>\n      <th>Outlet_Location_Type</th>\n      <th>Outlet_Type</th>\n      <th>Item_Outlet_Sales</th>\n    </tr>\n  </thead>\n  <tbody>\n    <tr>\n      <th>0</th>\n      <td>FDA15</td>\n      <td>9.30</td>\n      <td>Low Fat</td>\n      <td>0.016047</td>\n      <td>Dairy</td>\n      <td>249.8092</td>\n      <td>OUT049</td>\n      <td>1999</td>\n      <td>Medium</td>\n      <td>Tier 1</td>\n      <td>Supermarket Type1</td>\n      <td>3735.1380</td>\n    </tr>\n    <tr>\n      <th>1</th>\n      <td>DRC01</td>\n      <td>5.92</td>\n      <td>Regular</td>\n      <td>0.019278</td>\n      <td>Soft Drinks</td>\n      <td>48.2692</td>\n      <td>OUT018</td>\n      <td>2009</td>\n      <td>Medium</td>\n      <td>Tier 3</td>\n      <td>Supermarket Type2</td>\n      <td>443.4228</td>\n    </tr>\n    <tr>\n      <th>2</th>\n      <td>FDN15</td>\n      <td>17.50</td>\n      <td>Low Fat</td>\n      <td>0.016760</td>\n      <td>Meat</td>\n      <td>141.6180</td>\n      <td>OUT049</td>\n      <td>1999</td>\n      <td>Medium</td>\n      <td>Tier 1</td>\n      <td>Supermarket Type1</td>\n      <td>2097.2700</td>\n    </tr>\n    <tr>\n      <th>3</th>\n      <td>FDX07</td>\n      <td>19.20</td>\n      <td>Regular</td>\n      <td>0.000000</td>\n      <td>Fruits and Vegetables</td>\n      <td>182.0950</td>\n      <td>OUT010</td>\n      <td>1998</td>\n      <td>NaN</td>\n      <td>Tier 3</td>\n      <td>Grocery Store</td>\n      <td>732.3800</td>\n    </tr>\n    <tr>\n      <th>4</th>\n      <td>NCD19</td>\n      <td>8.93</td>\n      <td>Low Fat</td>\n      <td>0.000000</td>\n      <td>Household</td>\n      <td>53.8614</td>\n      <td>OUT013</td>\n      <td>1987</td>\n      <td>High</td>\n      <td>Tier 3</td>\n      <td>Supermarket Type1</td>\n      <td>994.7052</td>\n    </tr>\n  </tbody>\n</table>\n</div>"
     },
     "metadata": {},
     "execution_count": 23
    }
   ],
   "source": [
    "df.head()"
   ]
  },
  {
   "cell_type": "code",
   "execution_count": 24,
   "metadata": {},
   "outputs": [],
   "source": [
    "price_by_item = df.groupby('Item_Type')"
   ]
  },
  {
   "cell_type": "code",
   "execution_count": 25,
   "metadata": {},
   "outputs": [
    {
     "output_type": "execute_result",
     "data": {
      "text/plain": [
       "Item_Type\n",
       "Baking Goods             126.380766\n",
       "Breads                   140.952669\n",
       "Breakfast                141.788151\n",
       "Canned                   139.763832\n",
       "Dairy                    148.499208\n",
       "Frozen Foods             138.503366\n",
       "Fruits and Vegetables    144.581235\n",
       "Hard Drinks              137.077928\n",
       "Health and Hygiene       130.818921\n",
       "Household                149.424753\n",
       "Meat                     139.882032\n",
       "Others                   132.851430\n",
       "Seafood                  141.841719\n",
       "Snack Foods              146.194934\n",
       "Soft Drinks              131.492506\n",
       "Starchy Foods            147.838023\n",
       "Name: Item_MRP, dtype: float64"
      ]
     },
     "metadata": {},
     "execution_count": 25
    }
   ],
   "source": [
    "price_by_item.Item_MRP.mean()"
   ]
  },
  {
   "cell_type": "code",
   "execution_count": 26,
   "metadata": {},
   "outputs": [
    {
     "output_type": "execute_result",
     "data": {
      "text/plain": [
       "Item_Type\n",
       "Baking Goods             33.9874\n",
       "Breads                   31.9558\n",
       "Breakfast                40.0480\n",
       "Canned                   36.3506\n",
       "Dairy                    33.4874\n",
       "Frozen Foods             31.9558\n",
       "Fruits and Vegetables    36.2506\n",
       "Hard Drinks              34.2532\n",
       "Health and Hygiene       33.1216\n",
       "Household                32.4558\n",
       "Meat                     34.7532\n",
       "Others                   35.0190\n",
       "Seafood                  33.7216\n",
       "Snack Foods              32.3558\n",
       "Soft Drinks              31.2900\n",
       "Starchy Foods            34.0532\n",
       "Name: Item_MRP, dtype: float64"
      ]
     },
     "metadata": {},
     "execution_count": 26
    }
   ],
   "source": [
    "price_by_item.Item_MRP.min()"
   ]
  },
  {
   "cell_type": "code",
   "execution_count": 27,
   "metadata": {},
   "outputs": [
    {
     "output_type": "execute_result",
     "data": {
      "text/plain": [
       "Item_Type\n",
       "Baking Goods             265.5568\n",
       "Breads                   263.6594\n",
       "Breakfast                234.9300\n",
       "Canned                   266.8884\n",
       "Dairy                    266.6884\n",
       "Frozen Foods             264.8910\n",
       "Fruits and Vegetables    264.2252\n",
       "Hard Drinks              261.4278\n",
       "Health and Hygiene       266.6884\n",
       "Household                264.7910\n",
       "Meat                     261.5936\n",
       "Others                   254.9040\n",
       "Seafood                  240.2880\n",
       "Snack Foods              264.9568\n",
       "Soft Drinks              263.5910\n",
       "Starchy Foods            263.0252\n",
       "Name: Item_MRP, dtype: float64"
      ]
     },
     "metadata": {},
     "execution_count": 27
    }
   ],
   "source": [
    "price_by_item.Item_MRP.max()"
   ]
  },
  {
   "cell_type": "code",
   "execution_count": 28,
   "metadata": {},
   "outputs": [],
   "source": [
    "multi_group = df.groupby(['Item_Type','Outlet_Location_Type'])"
   ]
  },
  {
   "cell_type": "code",
   "execution_count": 29,
   "metadata": {},
   "outputs": [
    {
     "output_type": "execute_result",
     "data": {
      "text/plain": [
       "                                  Item_Identifier  Item_Weight  \\\n",
       "Item_Type    Outlet_Location_Type                                \n",
       "Baking Goods Tier 1                         FDC37       15.850   \n",
       "             Tier 2                         FDG12        6.635   \n",
       "             Tier 3                         FDP36       10.395   \n",
       "Breads       Tier 1                         FDW35        9.600   \n",
       "             Tier 2                         FDO23       17.850   \n",
       "             Tier 3                         FDW11       12.600   \n",
       "Breakfast    Tier 1                         FDP49        9.000   \n",
       "             Tier 2                         FDN13       18.600   \n",
       "             Tier 3                         FDQ49       20.750   \n",
       "\n",
       "                                  Item_Fat_Content  Item_Visibility  Item_MRP  \\\n",
       "Item_Type    Outlet_Location_Type                                               \n",
       "Baking Goods Tier 1                        Low Fat         0.057557  107.6938   \n",
       "             Tier 2                        Regular         0.000000  121.3098   \n",
       "             Tier 3                        Regular         0.000000   51.4008   \n",
       "Breads       Tier 1                        low fat         0.019416   41.6454   \n",
       "             Tier 2                        Low Fat         0.000000   93.1436   \n",
       "             Tier 3                        Low Fat         0.048981   61.9194   \n",
       "Breakfast    Tier 1                        Regular         0.069089   56.3614   \n",
       "             Tier 2                        Low Fat         0.152918   99.8358   \n",
       "             Tier 3                        Regular         0.039058  155.9630   \n",
       "\n",
       "                                  Outlet_Identifier  \\\n",
       "Item_Type    Outlet_Location_Type                     \n",
       "Baking Goods Tier 1                          OUT019   \n",
       "             Tier 2                          OUT045   \n",
       "             Tier 3                          OUT018   \n",
       "Breads       Tier 1                          OUT019   \n",
       "             Tier 2                          OUT045   \n",
       "             Tier 3                          OUT018   \n",
       "Breakfast    Tier 1                          OUT046   \n",
       "             Tier 2                          OUT017   \n",
       "             Tier 3                          OUT027   \n",
       "\n",
       "                                   Outlet_Establishment_Year Outlet_Size  \\\n",
       "Item_Type    Outlet_Location_Type                                          \n",
       "Baking Goods Tier 1                                     1985       Small   \n",
       "             Tier 2                                     2002       Small   \n",
       "             Tier 3                                     2009      Medium   \n",
       "Breads       Tier 1                                     1985       Small   \n",
       "             Tier 2                                     2002       Small   \n",
       "             Tier 3                                     2009      Medium   \n",
       "Breakfast    Tier 1                                     1997       Small   \n",
       "             Tier 2                                     2007       Small   \n",
       "             Tier 3                                     1985      Medium   \n",
       "\n",
       "                                         Outlet_Type  Item_Outlet_Sales  \n",
       "Item_Type    Outlet_Location_Type                                        \n",
       "Baking Goods Tier 1                    Grocery Store           214.3876  \n",
       "             Tier 2                Supermarket Type1          2530.7058  \n",
       "             Tier 3                Supermarket Type2           556.6088  \n",
       "Breads       Tier 1                    Grocery Store            83.8908  \n",
       "             Tier 2                Supermarket Type1          2174.5028  \n",
       "             Tier 3                Supermarket Type2           619.1940  \n",
       "Breakfast    Tier 1                Supermarket Type1          1547.3192  \n",
       "             Tier 2                Supermarket Type1          1910.1802  \n",
       "             Tier 3                Supermarket Type3          3285.7230  "
      ],
      "text/html": "<div>\n<style scoped>\n    .dataframe tbody tr th:only-of-type {\n        vertical-align: middle;\n    }\n\n    .dataframe tbody tr th {\n        vertical-align: top;\n    }\n\n    .dataframe thead th {\n        text-align: right;\n    }\n</style>\n<table border=\"1\" class=\"dataframe\">\n  <thead>\n    <tr style=\"text-align: right;\">\n      <th></th>\n      <th></th>\n      <th>Item_Identifier</th>\n      <th>Item_Weight</th>\n      <th>Item_Fat_Content</th>\n      <th>Item_Visibility</th>\n      <th>Item_MRP</th>\n      <th>Outlet_Identifier</th>\n      <th>Outlet_Establishment_Year</th>\n      <th>Outlet_Size</th>\n      <th>Outlet_Type</th>\n      <th>Item_Outlet_Sales</th>\n    </tr>\n    <tr>\n      <th>Item_Type</th>\n      <th>Outlet_Location_Type</th>\n      <th></th>\n      <th></th>\n      <th></th>\n      <th></th>\n      <th></th>\n      <th></th>\n      <th></th>\n      <th></th>\n      <th></th>\n      <th></th>\n    </tr>\n  </thead>\n  <tbody>\n    <tr>\n      <th rowspan=\"3\" valign=\"top\">Baking Goods</th>\n      <th>Tier 1</th>\n      <td>FDC37</td>\n      <td>15.850</td>\n      <td>Low Fat</td>\n      <td>0.057557</td>\n      <td>107.6938</td>\n      <td>OUT019</td>\n      <td>1985</td>\n      <td>Small</td>\n      <td>Grocery Store</td>\n      <td>214.3876</td>\n    </tr>\n    <tr>\n      <th>Tier 2</th>\n      <td>FDG12</td>\n      <td>6.635</td>\n      <td>Regular</td>\n      <td>0.000000</td>\n      <td>121.3098</td>\n      <td>OUT045</td>\n      <td>2002</td>\n      <td>Small</td>\n      <td>Supermarket Type1</td>\n      <td>2530.7058</td>\n    </tr>\n    <tr>\n      <th>Tier 3</th>\n      <td>FDP36</td>\n      <td>10.395</td>\n      <td>Regular</td>\n      <td>0.000000</td>\n      <td>51.4008</td>\n      <td>OUT018</td>\n      <td>2009</td>\n      <td>Medium</td>\n      <td>Supermarket Type2</td>\n      <td>556.6088</td>\n    </tr>\n    <tr>\n      <th rowspan=\"3\" valign=\"top\">Breads</th>\n      <th>Tier 1</th>\n      <td>FDW35</td>\n      <td>9.600</td>\n      <td>low fat</td>\n      <td>0.019416</td>\n      <td>41.6454</td>\n      <td>OUT019</td>\n      <td>1985</td>\n      <td>Small</td>\n      <td>Grocery Store</td>\n      <td>83.8908</td>\n    </tr>\n    <tr>\n      <th>Tier 2</th>\n      <td>FDO23</td>\n      <td>17.850</td>\n      <td>Low Fat</td>\n      <td>0.000000</td>\n      <td>93.1436</td>\n      <td>OUT045</td>\n      <td>2002</td>\n      <td>Small</td>\n      <td>Supermarket Type1</td>\n      <td>2174.5028</td>\n    </tr>\n    <tr>\n      <th>Tier 3</th>\n      <td>FDW11</td>\n      <td>12.600</td>\n      <td>Low Fat</td>\n      <td>0.048981</td>\n      <td>61.9194</td>\n      <td>OUT018</td>\n      <td>2009</td>\n      <td>Medium</td>\n      <td>Supermarket Type2</td>\n      <td>619.1940</td>\n    </tr>\n    <tr>\n      <th rowspan=\"3\" valign=\"top\">Breakfast</th>\n      <th>Tier 1</th>\n      <td>FDP49</td>\n      <td>9.000</td>\n      <td>Regular</td>\n      <td>0.069089</td>\n      <td>56.3614</td>\n      <td>OUT046</td>\n      <td>1997</td>\n      <td>Small</td>\n      <td>Supermarket Type1</td>\n      <td>1547.3192</td>\n    </tr>\n    <tr>\n      <th>Tier 2</th>\n      <td>FDN13</td>\n      <td>18.600</td>\n      <td>Low Fat</td>\n      <td>0.152918</td>\n      <td>99.8358</td>\n      <td>OUT017</td>\n      <td>2007</td>\n      <td>Small</td>\n      <td>Supermarket Type1</td>\n      <td>1910.1802</td>\n    </tr>\n    <tr>\n      <th>Tier 3</th>\n      <td>FDQ49</td>\n      <td>20.750</td>\n      <td>Regular</td>\n      <td>0.039058</td>\n      <td>155.9630</td>\n      <td>OUT027</td>\n      <td>1985</td>\n      <td>Medium</td>\n      <td>Supermarket Type3</td>\n      <td>3285.7230</td>\n    </tr>\n  </tbody>\n</table>\n</div>"
     },
     "metadata": {},
     "execution_count": 29
    }
   ],
   "source": [
    "multi_group.first().head(9)"
   ]
  },
  {
   "cell_type": "code",
   "execution_count": 30,
   "metadata": {},
   "outputs": [
    {
     "output_type": "execute_result",
     "data": {
      "text/plain": [
       "Item_Type     Outlet_Location_Type\n",
       "Baking Goods  Tier 1                  1766.342208\n",
       "              Tier 2                  2052.633001\n",
       "              Tier 3                  2006.533613\n",
       "Breads        Tier 1                  2049.382087\n",
       "              Tier 2                  2275.347721\n",
       "              Tier 3                  2247.993804\n",
       "Breakfast     Tier 1                  1532.631248\n",
       "              Tier 2                  2417.394963\n",
       "              Tier 3                  2319.232924\n",
       "Name: Item_Outlet_Sales, dtype: float64"
      ]
     },
     "metadata": {},
     "execution_count": 30
    }
   ],
   "source": [
    "multi_group.Item_Outlet_Sales.mean().head(9)"
   ]
  },
  {
   "source": [
    "## Crosstab"
   ],
   "cell_type": "markdown",
   "metadata": {}
  },
  {
   "cell_type": "code",
   "execution_count": 31,
   "metadata": {},
   "outputs": [
    {
     "output_type": "execute_result",
     "data": {
      "text/plain": [
       "Outlet_Location_Type   Tier 1  Tier 2  Tier 3\n",
       "Item_Type                                    \n",
       "Baking Goods              185     211     252\n",
       "Breads                     67      84     100\n",
       "Breakfast                  33      32      45\n",
       "Canned                    177     222     250\n",
       "Dairy                     205     214     263\n",
       "Frozen Foods              250     279     327\n",
       "Fruits and Vegetables     337     399     496\n",
       "Hard Drinks                58      72      84\n",
       "Health and Hygiene        138     166     216\n",
       "Household                 250     296     364\n",
       "Meat                      123     125     177\n",
       "Others                     56      52      61\n",
       "Seafood                    19      22      23\n",
       "Snack Foods               334     401     465\n",
       "Soft Drinks               120     157     168\n",
       "Starchy Foods              36      53      59"
      ],
      "text/html": "<div>\n<style scoped>\n    .dataframe tbody tr th:only-of-type {\n        vertical-align: middle;\n    }\n\n    .dataframe tbody tr th {\n        vertical-align: top;\n    }\n\n    .dataframe thead th {\n        text-align: right;\n    }\n</style>\n<table border=\"1\" class=\"dataframe\">\n  <thead>\n    <tr style=\"text-align: right;\">\n      <th>Outlet_Location_Type</th>\n      <th>Tier 1</th>\n      <th>Tier 2</th>\n      <th>Tier 3</th>\n    </tr>\n    <tr>\n      <th>Item_Type</th>\n      <th></th>\n      <th></th>\n      <th></th>\n    </tr>\n  </thead>\n  <tbody>\n    <tr>\n      <th>Baking Goods</th>\n      <td>185</td>\n      <td>211</td>\n      <td>252</td>\n    </tr>\n    <tr>\n      <th>Breads</th>\n      <td>67</td>\n      <td>84</td>\n      <td>100</td>\n    </tr>\n    <tr>\n      <th>Breakfast</th>\n      <td>33</td>\n      <td>32</td>\n      <td>45</td>\n    </tr>\n    <tr>\n      <th>Canned</th>\n      <td>177</td>\n      <td>222</td>\n      <td>250</td>\n    </tr>\n    <tr>\n      <th>Dairy</th>\n      <td>205</td>\n      <td>214</td>\n      <td>263</td>\n    </tr>\n    <tr>\n      <th>Frozen Foods</th>\n      <td>250</td>\n      <td>279</td>\n      <td>327</td>\n    </tr>\n    <tr>\n      <th>Fruits and Vegetables</th>\n      <td>337</td>\n      <td>399</td>\n      <td>496</td>\n    </tr>\n    <tr>\n      <th>Hard Drinks</th>\n      <td>58</td>\n      <td>72</td>\n      <td>84</td>\n    </tr>\n    <tr>\n      <th>Health and Hygiene</th>\n      <td>138</td>\n      <td>166</td>\n      <td>216</td>\n    </tr>\n    <tr>\n      <th>Household</th>\n      <td>250</td>\n      <td>296</td>\n      <td>364</td>\n    </tr>\n    <tr>\n      <th>Meat</th>\n      <td>123</td>\n      <td>125</td>\n      <td>177</td>\n    </tr>\n    <tr>\n      <th>Others</th>\n      <td>56</td>\n      <td>52</td>\n      <td>61</td>\n    </tr>\n    <tr>\n      <th>Seafood</th>\n      <td>19</td>\n      <td>22</td>\n      <td>23</td>\n    </tr>\n    <tr>\n      <th>Snack Foods</th>\n      <td>334</td>\n      <td>401</td>\n      <td>465</td>\n    </tr>\n    <tr>\n      <th>Soft Drinks</th>\n      <td>120</td>\n      <td>157</td>\n      <td>168</td>\n    </tr>\n    <tr>\n      <th>Starchy Foods</th>\n      <td>36</td>\n      <td>53</td>\n      <td>59</td>\n    </tr>\n  </tbody>\n</table>\n</div>"
     },
     "metadata": {},
     "execution_count": 31
    }
   ],
   "source": [
    "pd.crosstab(df['Item_Type'],df['Outlet_Location_Type'])"
   ]
  },
  {
   "cell_type": "code",
   "execution_count": 32,
   "metadata": {},
   "outputs": [
    {
     "output_type": "execute_result",
     "data": {
      "text/plain": [
       "Outlet_Location_Type  Tier 1  Tier 2  Tier 3\n",
       "Outlet_Size                                 \n",
       "High                       0       0     932\n",
       "Medium                   930       0    1863\n",
       "Small                   1458     930       0"
      ],
      "text/html": "<div>\n<style scoped>\n    .dataframe tbody tr th:only-of-type {\n        vertical-align: middle;\n    }\n\n    .dataframe tbody tr th {\n        vertical-align: top;\n    }\n\n    .dataframe thead th {\n        text-align: right;\n    }\n</style>\n<table border=\"1\" class=\"dataframe\">\n  <thead>\n    <tr style=\"text-align: right;\">\n      <th>Outlet_Location_Type</th>\n      <th>Tier 1</th>\n      <th>Tier 2</th>\n      <th>Tier 3</th>\n    </tr>\n    <tr>\n      <th>Outlet_Size</th>\n      <th></th>\n      <th></th>\n      <th></th>\n    </tr>\n  </thead>\n  <tbody>\n    <tr>\n      <th>High</th>\n      <td>0</td>\n      <td>0</td>\n      <td>932</td>\n    </tr>\n    <tr>\n      <th>Medium</th>\n      <td>930</td>\n      <td>0</td>\n      <td>1863</td>\n    </tr>\n    <tr>\n      <th>Small</th>\n      <td>1458</td>\n      <td>930</td>\n      <td>0</td>\n    </tr>\n  </tbody>\n</table>\n</div>"
     },
     "metadata": {},
     "execution_count": 32
    }
   ],
   "source": [
    "pd.crosstab(df['Outlet_Size'],df['Outlet_Location_Type'])"
   ]
  },
  {
   "source": [
    "## Pivot table"
   ],
   "cell_type": "markdown",
   "metadata": {}
  },
  {
   "cell_type": "code",
   "execution_count": 33,
   "metadata": {},
   "outputs": [
    {
     "output_type": "execute_result",
     "data": {
      "text/plain": [
       "                           Item_Outlet_Sales\n",
       "Outlet_Establishment_Year                   \n",
       "1985                             2483.677474\n",
       "1987                             2298.995256\n",
       "1997                             2277.844267\n",
       "1998                              339.351662\n",
       "1999                             2348.354635\n",
       "2002                             2192.384798\n",
       "2004                             2438.841866\n",
       "2007                             2340.675263\n",
       "2009                             1995.498739"
      ],
      "text/html": "<div>\n<style scoped>\n    .dataframe tbody tr th:only-of-type {\n        vertical-align: middle;\n    }\n\n    .dataframe tbody tr th {\n        vertical-align: top;\n    }\n\n    .dataframe thead th {\n        text-align: right;\n    }\n</style>\n<table border=\"1\" class=\"dataframe\">\n  <thead>\n    <tr style=\"text-align: right;\">\n      <th></th>\n      <th>Item_Outlet_Sales</th>\n    </tr>\n    <tr>\n      <th>Outlet_Establishment_Year</th>\n      <th></th>\n    </tr>\n  </thead>\n  <tbody>\n    <tr>\n      <th>1985</th>\n      <td>2483.677474</td>\n    </tr>\n    <tr>\n      <th>1987</th>\n      <td>2298.995256</td>\n    </tr>\n    <tr>\n      <th>1997</th>\n      <td>2277.844267</td>\n    </tr>\n    <tr>\n      <th>1998</th>\n      <td>339.351662</td>\n    </tr>\n    <tr>\n      <th>1999</th>\n      <td>2348.354635</td>\n    </tr>\n    <tr>\n      <th>2002</th>\n      <td>2192.384798</td>\n    </tr>\n    <tr>\n      <th>2004</th>\n      <td>2438.841866</td>\n    </tr>\n    <tr>\n      <th>2007</th>\n      <td>2340.675263</td>\n    </tr>\n    <tr>\n      <th>2009</th>\n      <td>1995.498739</td>\n    </tr>\n  </tbody>\n</table>\n</div>"
     },
     "metadata": {},
     "execution_count": 33
    }
   ],
   "source": [
    "pd.pivot_table(df, index=['Outlet_Establishment_Year'],values='Item_Outlet_Sales')"
   ]
  },
  {
   "cell_type": "code",
   "execution_count": 34,
   "metadata": {},
   "outputs": [
    {
     "output_type": "execute_result",
     "data": {
      "text/plain": [
       "                           Item_Outlet_Sales\n",
       "Outlet_Establishment_Year                   \n",
       "1985                                 33.9558\n",
       "1987                                 73.2380\n",
       "1997                                101.8674\n",
       "1998                                 33.2900\n",
       "1999                                111.8544\n",
       "2002                                 99.8700\n",
       "2004                                113.8518\n",
       "2007                                143.8128\n",
       "2009                                 69.2432"
      ],
      "text/html": "<div>\n<style scoped>\n    .dataframe tbody tr th:only-of-type {\n        vertical-align: middle;\n    }\n\n    .dataframe tbody tr th {\n        vertical-align: top;\n    }\n\n    .dataframe thead th {\n        text-align: right;\n    }\n</style>\n<table border=\"1\" class=\"dataframe\">\n  <thead>\n    <tr style=\"text-align: right;\">\n      <th></th>\n      <th>Item_Outlet_Sales</th>\n    </tr>\n    <tr>\n      <th>Outlet_Establishment_Year</th>\n      <th></th>\n    </tr>\n  </thead>\n  <tbody>\n    <tr>\n      <th>1985</th>\n      <td>33.9558</td>\n    </tr>\n    <tr>\n      <th>1987</th>\n      <td>73.2380</td>\n    </tr>\n    <tr>\n      <th>1997</th>\n      <td>101.8674</td>\n    </tr>\n    <tr>\n      <th>1998</th>\n      <td>33.2900</td>\n    </tr>\n    <tr>\n      <th>1999</th>\n      <td>111.8544</td>\n    </tr>\n    <tr>\n      <th>2002</th>\n      <td>99.8700</td>\n    </tr>\n    <tr>\n      <th>2004</th>\n      <td>113.8518</td>\n    </tr>\n    <tr>\n      <th>2007</th>\n      <td>143.8128</td>\n    </tr>\n    <tr>\n      <th>2009</th>\n      <td>69.2432</td>\n    </tr>\n  </tbody>\n</table>\n</div>"
     },
     "metadata": {},
     "execution_count": 34
    }
   ],
   "source": [
    "pd.pivot_table(df, index=['Outlet_Establishment_Year'],values='Item_Outlet_Sales',aggfunc= min)"
   ]
  },
  {
   "cell_type": "code",
   "execution_count": 35,
   "metadata": {},
   "outputs": [
    {
     "output_type": "execute_result",
     "data": {
      "text/plain": [
       "                           Item_Outlet_Sales\n",
       "Outlet_Establishment_Year                   \n",
       "1985                              13086.9648\n",
       "1987                              10256.6490\n",
       "1997                               9779.9362\n",
       "1998                               1775.6886\n",
       "1999                               7646.0472\n",
       "2002                               8994.9580\n",
       "2004                               8479.6288\n",
       "2007                               9664.7528\n",
       "2009                               6768.5228"
      ],
      "text/html": "<div>\n<style scoped>\n    .dataframe tbody tr th:only-of-type {\n        vertical-align: middle;\n    }\n\n    .dataframe tbody tr th {\n        vertical-align: top;\n    }\n\n    .dataframe thead th {\n        text-align: right;\n    }\n</style>\n<table border=\"1\" class=\"dataframe\">\n  <thead>\n    <tr style=\"text-align: right;\">\n      <th></th>\n      <th>Item_Outlet_Sales</th>\n    </tr>\n    <tr>\n      <th>Outlet_Establishment_Year</th>\n      <th></th>\n    </tr>\n  </thead>\n  <tbody>\n    <tr>\n      <th>1985</th>\n      <td>13086.9648</td>\n    </tr>\n    <tr>\n      <th>1987</th>\n      <td>10256.6490</td>\n    </tr>\n    <tr>\n      <th>1997</th>\n      <td>9779.9362</td>\n    </tr>\n    <tr>\n      <th>1998</th>\n      <td>1775.6886</td>\n    </tr>\n    <tr>\n      <th>1999</th>\n      <td>7646.0472</td>\n    </tr>\n    <tr>\n      <th>2002</th>\n      <td>8994.9580</td>\n    </tr>\n    <tr>\n      <th>2004</th>\n      <td>8479.6288</td>\n    </tr>\n    <tr>\n      <th>2007</th>\n      <td>9664.7528</td>\n    </tr>\n    <tr>\n      <th>2009</th>\n      <td>6768.5228</td>\n    </tr>\n  </tbody>\n</table>\n</div>"
     },
     "metadata": {},
     "execution_count": 35
    }
   ],
   "source": [
    "pd.pivot_table(df, index=['Outlet_Establishment_Year'],values='Item_Outlet_Sales',aggfunc= max)"
   ]
  },
  {
   "cell_type": "code",
   "execution_count": 36,
   "metadata": {},
   "outputs": [
    {
     "output_type": "execute_result",
     "data": {
      "text/plain": [
       "                                        min               max  \\\n",
       "                          Item_Outlet_Sales Item_Outlet_Sales   \n",
       "Outlet_Establishment_Year                                       \n",
       "1985                                33.9558        13086.9648   \n",
       "1987                                73.2380        10256.6490   \n",
       "1997                               101.8674         9779.9362   \n",
       "1998                                33.2900         1775.6886   \n",
       "1999                               111.8544         7646.0472   \n",
       "2002                                99.8700         8994.9580   \n",
       "2004                               113.8518         8479.6288   \n",
       "2007                               143.8128         9664.7528   \n",
       "2009                                69.2432         6768.5228   \n",
       "\n",
       "                                        sum              mean  \\\n",
       "                          Item_Outlet_Sales Item_Outlet_Sales   \n",
       "Outlet_Establishment_Year                                       \n",
       "1985                           3.633620e+06       2483.677474   \n",
       "1987                           2.142664e+06       2298.995256   \n",
       "1997                           2.118395e+06       2277.844267   \n",
       "1998                           1.883402e+05        339.351662   \n",
       "1999                           2.183970e+06       2348.354635   \n",
       "2002                           2.036725e+06       2192.384798   \n",
       "2004                           2.268123e+06       2438.841866   \n",
       "2007                           2.167465e+06       2340.675263   \n",
       "2009                           1.851823e+06       1995.498739   \n",
       "\n",
       "                                     median               std  \n",
       "                          Item_Outlet_Sales Item_Outlet_Sales  \n",
       "Outlet_Establishment_Year                                      \n",
       "1985                              1845.5976       2347.516621  \n",
       "1987                              2050.6640       1533.531664  \n",
       "1997                              1945.8005       1488.405631  \n",
       "1998                               250.3408        271.014855  \n",
       "1999                              1966.1074       1513.289464  \n",
       "2002                              1834.9448       1462.399658  \n",
       "2004                              2109.2544       1538.512533  \n",
       "2007                              2005.0567       1550.778025  \n",
       "2009                              1655.1788       1375.932889  "
      ],
      "text/html": "<div>\n<style scoped>\n    .dataframe tbody tr th:only-of-type {\n        vertical-align: middle;\n    }\n\n    .dataframe tbody tr th {\n        vertical-align: top;\n    }\n\n    .dataframe thead tr th {\n        text-align: left;\n    }\n\n    .dataframe thead tr:last-of-type th {\n        text-align: right;\n    }\n</style>\n<table border=\"1\" class=\"dataframe\">\n  <thead>\n    <tr>\n      <th></th>\n      <th>min</th>\n      <th>max</th>\n      <th>sum</th>\n      <th>mean</th>\n      <th>median</th>\n      <th>std</th>\n    </tr>\n    <tr>\n      <th></th>\n      <th>Item_Outlet_Sales</th>\n      <th>Item_Outlet_Sales</th>\n      <th>Item_Outlet_Sales</th>\n      <th>Item_Outlet_Sales</th>\n      <th>Item_Outlet_Sales</th>\n      <th>Item_Outlet_Sales</th>\n    </tr>\n    <tr>\n      <th>Outlet_Establishment_Year</th>\n      <th></th>\n      <th></th>\n      <th></th>\n      <th></th>\n      <th></th>\n      <th></th>\n    </tr>\n  </thead>\n  <tbody>\n    <tr>\n      <th>1985</th>\n      <td>33.9558</td>\n      <td>13086.9648</td>\n      <td>3.633620e+06</td>\n      <td>2483.677474</td>\n      <td>1845.5976</td>\n      <td>2347.516621</td>\n    </tr>\n    <tr>\n      <th>1987</th>\n      <td>73.2380</td>\n      <td>10256.6490</td>\n      <td>2.142664e+06</td>\n      <td>2298.995256</td>\n      <td>2050.6640</td>\n      <td>1533.531664</td>\n    </tr>\n    <tr>\n      <th>1997</th>\n      <td>101.8674</td>\n      <td>9779.9362</td>\n      <td>2.118395e+06</td>\n      <td>2277.844267</td>\n      <td>1945.8005</td>\n      <td>1488.405631</td>\n    </tr>\n    <tr>\n      <th>1998</th>\n      <td>33.2900</td>\n      <td>1775.6886</td>\n      <td>1.883402e+05</td>\n      <td>339.351662</td>\n      <td>250.3408</td>\n      <td>271.014855</td>\n    </tr>\n    <tr>\n      <th>1999</th>\n      <td>111.8544</td>\n      <td>7646.0472</td>\n      <td>2.183970e+06</td>\n      <td>2348.354635</td>\n      <td>1966.1074</td>\n      <td>1513.289464</td>\n    </tr>\n    <tr>\n      <th>2002</th>\n      <td>99.8700</td>\n      <td>8994.9580</td>\n      <td>2.036725e+06</td>\n      <td>2192.384798</td>\n      <td>1834.9448</td>\n      <td>1462.399658</td>\n    </tr>\n    <tr>\n      <th>2004</th>\n      <td>113.8518</td>\n      <td>8479.6288</td>\n      <td>2.268123e+06</td>\n      <td>2438.841866</td>\n      <td>2109.2544</td>\n      <td>1538.512533</td>\n    </tr>\n    <tr>\n      <th>2007</th>\n      <td>143.8128</td>\n      <td>9664.7528</td>\n      <td>2.167465e+06</td>\n      <td>2340.675263</td>\n      <td>2005.0567</td>\n      <td>1550.778025</td>\n    </tr>\n    <tr>\n      <th>2009</th>\n      <td>69.2432</td>\n      <td>6768.5228</td>\n      <td>1.851823e+06</td>\n      <td>1995.498739</td>\n      <td>1655.1788</td>\n      <td>1375.932889</td>\n    </tr>\n  </tbody>\n</table>\n</div>"
     },
     "metadata": {},
     "execution_count": 36
    }
   ],
   "source": [
    "pd.pivot_table(df, index=['Outlet_Establishment_Year'],values='Item_Outlet_Sales',aggfunc= [min,max,sum,np.mean, np.median, np.std])"
   ]
  },
  {
   "cell_type": "code",
   "execution_count": 37,
   "metadata": {},
   "outputs": [
    {
     "output_type": "execute_result",
     "data": {
      "text/plain": [
       "                                                            Item_Outlet_Sales\n",
       "Outlet_Establishment_Year Outlet_Location_Type Outlet_Size                   \n",
       "1985                      Tier 1               Small               340.329723\n",
       "                          Tier 3               Medium             3694.038558\n",
       "1987                      Tier 3               High               2298.995256\n",
       "1997                      Tier 1               Small              2277.844267\n",
       "1999                      Tier 1               Medium             2348.354635\n",
       "2004                      Tier 2               Small              2438.841866\n",
       "2009                      Tier 3               Medium             1995.498739"
      ],
      "text/html": "<div>\n<style scoped>\n    .dataframe tbody tr th:only-of-type {\n        vertical-align: middle;\n    }\n\n    .dataframe tbody tr th {\n        vertical-align: top;\n    }\n\n    .dataframe thead th {\n        text-align: right;\n    }\n</style>\n<table border=\"1\" class=\"dataframe\">\n  <thead>\n    <tr style=\"text-align: right;\">\n      <th></th>\n      <th></th>\n      <th></th>\n      <th>Item_Outlet_Sales</th>\n    </tr>\n    <tr>\n      <th>Outlet_Establishment_Year</th>\n      <th>Outlet_Location_Type</th>\n      <th>Outlet_Size</th>\n      <th></th>\n    </tr>\n  </thead>\n  <tbody>\n    <tr>\n      <th rowspan=\"2\" valign=\"top\">1985</th>\n      <th>Tier 1</th>\n      <th>Small</th>\n      <td>340.329723</td>\n    </tr>\n    <tr>\n      <th>Tier 3</th>\n      <th>Medium</th>\n      <td>3694.038558</td>\n    </tr>\n    <tr>\n      <th>1987</th>\n      <th>Tier 3</th>\n      <th>High</th>\n      <td>2298.995256</td>\n    </tr>\n    <tr>\n      <th>1997</th>\n      <th>Tier 1</th>\n      <th>Small</th>\n      <td>2277.844267</td>\n    </tr>\n    <tr>\n      <th>1999</th>\n      <th>Tier 1</th>\n      <th>Medium</th>\n      <td>2348.354635</td>\n    </tr>\n    <tr>\n      <th>2004</th>\n      <th>Tier 2</th>\n      <th>Small</th>\n      <td>2438.841866</td>\n    </tr>\n    <tr>\n      <th>2009</th>\n      <th>Tier 3</th>\n      <th>Medium</th>\n      <td>1995.498739</td>\n    </tr>\n  </tbody>\n</table>\n</div>"
     },
     "metadata": {},
     "execution_count": 37
    }
   ],
   "source": [
    "pd.pivot_table(df, index =['Outlet_Establishment_Year', 'Outlet_Location_Type', 'Outlet_Size'], values ='Item_Outlet_Sales')"
   ]
  },
  {
   "cell_type": "code",
   "execution_count": 38,
   "metadata": {},
   "outputs": [
    {
     "output_type": "execute_result",
     "data": {
      "text/plain": [
       "                                                                         min  \\\n",
       "                                                           Item_Outlet_Sales   \n",
       "Outlet_Establishment_Year Outlet_Location_Type Outlet_Size                     \n",
       "1985                      Tier 1               Small                 33.9558   \n",
       "                          Tier 3               Medium               241.6854   \n",
       "1987                      Tier 3               High                  73.2380   \n",
       "1997                      Tier 1               Small                101.8674   \n",
       "1999                      Tier 1               Medium               111.8544   \n",
       "2004                      Tier 2               Small                113.8518   \n",
       "2009                      Tier 3               Medium                69.2432   \n",
       "\n",
       "                                                                         max  \\\n",
       "                                                           Item_Outlet_Sales   \n",
       "Outlet_Establishment_Year Outlet_Location_Type Outlet_Size                     \n",
       "1985                      Tier 1               Small               1482.0708   \n",
       "                          Tier 3               Medium             13086.9648   \n",
       "1987                      Tier 3               High               10256.6490   \n",
       "1997                      Tier 1               Small               9779.9362   \n",
       "1999                      Tier 1               Medium              7646.0472   \n",
       "2004                      Tier 2               Small               8479.6288   \n",
       "2009                      Tier 3               Medium              6768.5228   \n",
       "\n",
       "                                                                         sum  \\\n",
       "                                                           Item_Outlet_Sales   \n",
       "Outlet_Establishment_Year Outlet_Location_Type Outlet_Size                     \n",
       "1985                      Tier 1               Small            1.796941e+05   \n",
       "                          Tier 3               Medium           3.453926e+06   \n",
       "1987                      Tier 3               High             2.142664e+06   \n",
       "1997                      Tier 1               Small            2.118395e+06   \n",
       "1999                      Tier 1               Medium           2.183970e+06   \n",
       "2004                      Tier 2               Small            2.268123e+06   \n",
       "2009                      Tier 3               Medium           1.851823e+06   \n",
       "\n",
       "                                                                        mean  \\\n",
       "                                                           Item_Outlet_Sales   \n",
       "Outlet_Establishment_Year Outlet_Location_Type Outlet_Size                     \n",
       "1985                      Tier 1               Small              340.329723   \n",
       "                          Tier 3               Medium            3694.038558   \n",
       "1987                      Tier 3               High              2298.995256   \n",
       "1997                      Tier 1               Small             2277.844267   \n",
       "1999                      Tier 1               Medium            2348.354635   \n",
       "2004                      Tier 2               Small             2438.841866   \n",
       "2009                      Tier 3               Medium            1995.498739   \n",
       "\n",
       "                                                                      median  \\\n",
       "                                                           Item_Outlet_Sales   \n",
       "Outlet_Establishment_Year Outlet_Location_Type Outlet_Size                     \n",
       "1985                      Tier 1               Small                265.3213   \n",
       "                          Tier 3               Medium              3364.9532   \n",
       "1987                      Tier 3               High                2050.6640   \n",
       "1997                      Tier 1               Small               1945.8005   \n",
       "1999                      Tier 1               Medium              1966.1074   \n",
       "2004                      Tier 2               Small               2109.2544   \n",
       "2009                      Tier 3               Medium              1655.1788   \n",
       "\n",
       "                                                                         std  \n",
       "                                                           Item_Outlet_Sales  \n",
       "Outlet_Establishment_Year Outlet_Location_Type Outlet_Size                    \n",
       "1985                      Tier 1               Small              249.979449  \n",
       "                          Tier 3               Medium            2127.760054  \n",
       "1987                      Tier 3               High              1533.531664  \n",
       "1997                      Tier 1               Small             1488.405631  \n",
       "1999                      Tier 1               Medium            1513.289464  \n",
       "2004                      Tier 2               Small             1538.512533  \n",
       "2009                      Tier 3               Medium            1375.932889  "
      ],
      "text/html": "<div>\n<style scoped>\n    .dataframe tbody tr th:only-of-type {\n        vertical-align: middle;\n    }\n\n    .dataframe tbody tr th {\n        vertical-align: top;\n    }\n\n    .dataframe thead tr th {\n        text-align: left;\n    }\n\n    .dataframe thead tr:last-of-type th {\n        text-align: right;\n    }\n</style>\n<table border=\"1\" class=\"dataframe\">\n  <thead>\n    <tr>\n      <th></th>\n      <th></th>\n      <th></th>\n      <th>min</th>\n      <th>max</th>\n      <th>sum</th>\n      <th>mean</th>\n      <th>median</th>\n      <th>std</th>\n    </tr>\n    <tr>\n      <th></th>\n      <th></th>\n      <th></th>\n      <th>Item_Outlet_Sales</th>\n      <th>Item_Outlet_Sales</th>\n      <th>Item_Outlet_Sales</th>\n      <th>Item_Outlet_Sales</th>\n      <th>Item_Outlet_Sales</th>\n      <th>Item_Outlet_Sales</th>\n    </tr>\n    <tr>\n      <th>Outlet_Establishment_Year</th>\n      <th>Outlet_Location_Type</th>\n      <th>Outlet_Size</th>\n      <th></th>\n      <th></th>\n      <th></th>\n      <th></th>\n      <th></th>\n      <th></th>\n    </tr>\n  </thead>\n  <tbody>\n    <tr>\n      <th rowspan=\"2\" valign=\"top\">1985</th>\n      <th>Tier 1</th>\n      <th>Small</th>\n      <td>33.9558</td>\n      <td>1482.0708</td>\n      <td>1.796941e+05</td>\n      <td>340.329723</td>\n      <td>265.3213</td>\n      <td>249.979449</td>\n    </tr>\n    <tr>\n      <th>Tier 3</th>\n      <th>Medium</th>\n      <td>241.6854</td>\n      <td>13086.9648</td>\n      <td>3.453926e+06</td>\n      <td>3694.038558</td>\n      <td>3364.9532</td>\n      <td>2127.760054</td>\n    </tr>\n    <tr>\n      <th>1987</th>\n      <th>Tier 3</th>\n      <th>High</th>\n      <td>73.2380</td>\n      <td>10256.6490</td>\n      <td>2.142664e+06</td>\n      <td>2298.995256</td>\n      <td>2050.6640</td>\n      <td>1533.531664</td>\n    </tr>\n    <tr>\n      <th>1997</th>\n      <th>Tier 1</th>\n      <th>Small</th>\n      <td>101.8674</td>\n      <td>9779.9362</td>\n      <td>2.118395e+06</td>\n      <td>2277.844267</td>\n      <td>1945.8005</td>\n      <td>1488.405631</td>\n    </tr>\n    <tr>\n      <th>1999</th>\n      <th>Tier 1</th>\n      <th>Medium</th>\n      <td>111.8544</td>\n      <td>7646.0472</td>\n      <td>2.183970e+06</td>\n      <td>2348.354635</td>\n      <td>1966.1074</td>\n      <td>1513.289464</td>\n    </tr>\n    <tr>\n      <th>2004</th>\n      <th>Tier 2</th>\n      <th>Small</th>\n      <td>113.8518</td>\n      <td>8479.6288</td>\n      <td>2.268123e+06</td>\n      <td>2438.841866</td>\n      <td>2109.2544</td>\n      <td>1538.512533</td>\n    </tr>\n    <tr>\n      <th>2009</th>\n      <th>Tier 3</th>\n      <th>Medium</th>\n      <td>69.2432</td>\n      <td>6768.5228</td>\n      <td>1.851823e+06</td>\n      <td>1995.498739</td>\n      <td>1655.1788</td>\n      <td>1375.932889</td>\n    </tr>\n  </tbody>\n</table>\n</div>"
     },
     "metadata": {},
     "execution_count": 38
    }
   ],
   "source": [
    "pd.pivot_table(df, index =['Outlet_Establishment_Year', 'Outlet_Location_Type', 'Outlet_Size'], values ='Item_Outlet_Sales',aggfunc= [min,max,sum,np.mean, np.median, np.std])"
   ]
  }
 ]
}